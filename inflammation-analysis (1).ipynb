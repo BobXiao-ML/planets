{
 "cells": [
  {
   "cell_type": "markdown",
   "metadata": {},
   "source": [
    "# Background - Intro\n",
    "\n"
   ]
  },
  {
   "cell_type": "code",
   "execution_count": 1,
   "metadata": {
    "collapsed": false
   },
   "outputs": [
    {
     "data": {
      "text/plain": [
       "16"
      ]
     },
     "execution_count": 1,
     "metadata": {},
     "output_type": "execute_result"
    }
   ],
   "source": [
    "2+5+9"
   ]
  },
  {
   "cell_type": "code",
   "execution_count": 2,
   "metadata": {
    "collapsed": true
   },
   "outputs": [],
   "source": [
    "weight_kg=89"
   ]
  },
  {
   "cell_type": "code",
   "execution_count": 6,
   "metadata": {
    "collapsed": true
   },
   "outputs": [],
   "source": [
    "weight_kg=89.0"
   ]
  },
  {
   "cell_type": "code",
   "execution_count": 8,
   "metadata": {
    "collapsed": false
   },
   "outputs": [],
   "source": [
    "weight_text = 'weight in kilograms'"
   ]
  },
  {
   "cell_type": "code",
   "execution_count": 10,
   "metadata": {
    "collapsed": true
   },
   "outputs": [],
   "source": [
    "weight_lb=2.2*weight_kg"
   ]
  },
  {
   "cell_type": "code",
   "execution_count": 11,
   "metadata": {
    "collapsed": true
   },
   "outputs": [],
   "source": [
    "weight_lb_text = 'weight in pounds'"
   ]
  },
  {
   "cell_type": "code",
   "execution_count": 12,
   "metadata": {
    "collapsed": false
   },
   "outputs": [
    {
     "name": "stdout",
     "output_type": "stream",
     "text": [
      "89.0 weight in pounds\n",
      "weight in kilograms\n"
     ]
    }
   ],
   "source": [
    "print (weight_kg, weight_lb_text)\n",
    "print (weight_text)"
   ]
  },
  {
   "cell_type": "code",
   "execution_count": 13,
   "metadata": {
    "collapsed": false
   },
   "outputs": [
    {
     "name": "stdout",
     "output_type": "stream",
     "text": [
      "195.8\n"
     ]
    }
   ],
   "source": [
    "print (weight_lb)"
   ]
  },
  {
   "cell_type": "code",
   "execution_count": 14,
   "metadata": {
    "collapsed": true
   },
   "outputs": [],
   "source": [
    "weight_kg=150"
   ]
  },
  {
   "cell_type": "code",
   "execution_count": 15,
   "metadata": {
    "collapsed": false
   },
   "outputs": [
    {
     "name": "stdout",
     "output_type": "stream",
     "text": [
      "150 weight in pounds\n",
      "weight in kilograms\n"
     ]
    }
   ],
   "source": [
    "print (weight_kg, weight_lb_text)\n",
    "print (weight_text)"
   ]
  },
  {
   "cell_type": "code",
   "execution_count": 18,
   "metadata": {
    "collapsed": true
   },
   "outputs": [],
   "source": [
    "import numpy as np"
   ]
  },
  {
   "cell_type": "code",
   "execution_count": 19,
   "metadata": {
    "collapsed": false,
    "scrolled": true
   },
   "outputs": [
    {
     "data": {
      "text/plain": [
       "array([[ 0.,  0.,  1., ...,  3.,  0.,  0.],\n",
       "       [ 0.,  1.,  2., ...,  1.,  0.,  1.],\n",
       "       [ 0.,  1.,  1., ...,  2.,  1.,  1.],\n",
       "       ..., \n",
       "       [ 0.,  1.,  1., ...,  1.,  1.,  1.],\n",
       "       [ 0.,  0.,  0., ...,  0.,  2.,  0.],\n",
       "       [ 0.,  0.,  1., ...,  1.,  1.,  0.]])"
      ]
     },
     "execution_count": 19,
     "metadata": {},
     "output_type": "execute_result"
    }
   ],
   "source": [
    "np.loadtxt(\"data/inflammation-01.csv\", delimiter = \",\")"
   ]
  },
  {
   "cell_type": "code",
   "execution_count": 21,
   "metadata": {
    "collapsed": false,
    "scrolled": true
   },
   "outputs": [],
   "source": [
    "# here we load our file with numpy loadtxt\n",
    "inf_data = np.loadtxt(\"data/inflammation-01.csv\", delimiter = \",\")"
   ]
  },
  {
   "cell_type": "raw",
   "metadata": {},
   "source": [
    "print (type (inf_data))"
   ]
  },
  {
   "cell_type": "code",
   "execution_count": 22,
   "metadata": {
    "collapsed": false
   },
   "outputs": [
    {
     "name": "stdout",
     "output_type": "stream",
     "text": [
      "<class 'numpy.ndarray'>\n"
     ]
    }
   ],
   "source": [
    "print (type(inf_data))"
   ]
  },
  {
   "cell_type": "code",
   "execution_count": 23,
   "metadata": {
    "collapsed": false
   },
   "outputs": [
    {
     "name": "stdout",
     "output_type": "stream",
     "text": [
      "float64\n"
     ]
    }
   ],
   "source": [
    "print (inf_data.dtype)"
   ]
  },
  {
   "cell_type": "code",
   "execution_count": 25,
   "metadata": {
    "collapsed": false
   },
   "outputs": [
    {
     "name": "stdout",
     "output_type": "stream",
     "text": [
      "(60, 40)\n"
     ]
    }
   ],
   "source": [
    "print (inf_data.shape)"
   ]
  },
  {
   "cell_type": "raw",
   "metadata": {},
   "source": [
    "inf_data [0,0]"
   ]
  },
  {
   "cell_type": "code",
   "execution_count": 26,
   "metadata": {
    "collapsed": false
   },
   "outputs": [
    {
     "name": "stdout",
     "output_type": "stream",
     "text": [
      "0.0\n"
     ]
    }
   ],
   "source": [
    "print (inf_data[0,0])"
   ]
  },
  {
   "cell_type": "code",
   "execution_count": 27,
   "metadata": {
    "collapsed": false
   },
   "outputs": [
    {
     "name": "stdout",
     "output_type": "stream",
     "text": [
      "13.0\n"
     ]
    }
   ],
   "source": [
    "print (inf_data[30,20])"
   ]
  },
  {
   "cell_type": "code",
   "execution_count": 28,
   "metadata": {
    "collapsed": false
   },
   "outputs": [
    {
     "name": "stdout",
     "output_type": "stream",
     "text": [
      "[[ 1.  2.  4.  7.  8.  3.]\n",
      " [ 2.  1.  3.  2.  2.  6.]\n",
      " [ 3.  2.  6.  2.  5.  9.]\n",
      " [ 4.  2.  2.  1.  6.  7.]]\n"
     ]
    }
   ],
   "source": [
    "print (inf_data[0:4,4:10])"
   ]
  },
  {
   "cell_type": "code",
   "execution_count": 29,
   "metadata": {
    "collapsed": false
   },
   "outputs": [
    {
     "name": "stdout",
     "output_type": "stream",
     "text": [
      "[[ 4.  2.  3.  0.  0.]\n",
      " [ 5.  1.  1.  0.  1.]\n",
      " [ 3.  2.  2.  1.  1.]\n",
      " [ 4.  2.  3.  2.  1.]\n",
      " [ 4.  2.  0.  1.  1.]\n",
      " [ 4.  4.  3.  2.  1.]]\n"
     ]
    }
   ],
   "source": [
    "print (inf_data[:6, 35:])"
   ]
  },
  {
   "cell_type": "code",
   "execution_count": 31,
   "metadata": {
    "collapsed": false
   },
   "outputs": [
    {
     "name": "stdout",
     "output_type": "stream",
     "text": [
      "[[  0.   3.   4.   3.  10.   4.  12.  13.   7.   6.   4.   7.   2.   0.]\n",
      " [  0.   0.   2.   7.   9.   8.  10.   4.   6.   4.   3.   3.   2.   1.]\n",
      " [  0.   2.   2.   8.  11.  13.  10.  17.   9.   7.   8.   2.   4.   1.]\n",
      " [  0.   2.   5.   8.  12.   6.  16.  15.  12.   8.   2.   5.   1.   0.]\n",
      " [  0.   1.   6.   7.   3.  12.  13.  12.   4.   9.   5.   3.   2.   1.]\n",
      " [  0.   0.   4.   4.   5.  10.  18.   8.  11.   6.  10.   6.   4.   0.]\n",
      " [  0.   1.   4.   8.  11.  11.  11.  12.   7.   5.   6.   1.   2.   0.]\n",
      " [  0.   3.   2.   8.   6.   5.   8.  10.  14.   4.   8.   6.   3.   0.]\n",
      " [  0.   1.   5.   3.   3.   4.  15.  16.  10.   5.   5.   1.   1.   1.]\n",
      " [  0.   1.   1.   2.   4.   6.  12.  13.   4.   4.   9.   3.   4.   1.]\n",
      " [  0.   0.   4.   6.  11.  14.   8.   7.  15.   4.  10.   6.   2.   1.]\n",
      " [  0.   1.   6.   8.  12.   4.  13.   6.   4.   7.   2.   2.   1.   1.]\n",
      " [  0.   2.   5.   6.   5.   7.  16.  13.  12.   9.   6.   4.   4.   1.]\n",
      " [  0.   3.   5.   7.   3.   6.  16.   4.  13.  10.   2.   3.   4.   1.]]\n"
     ]
    }
   ],
   "source": [
    "print (inf_data[0:40:3,0::3])"
   ]
  },
  {
   "cell_type": "code",
   "execution_count": 32,
   "metadata": {
    "collapsed": true
   },
   "outputs": [],
   "source": [
    "small_slice =(inf_data[0:40:3,0::3])"
   ]
  },
  {
   "cell_type": "code",
   "execution_count": 33,
   "metadata": {
    "collapsed": false
   },
   "outputs": [
    {
     "name": "stdout",
     "output_type": "stream",
     "text": [
      "[[  0.   3.   4.   3.  10.   4.  12.  13.   7.   6.   4.   7.   2.   0.]\n",
      " [  0.   0.   2.   7.   9.   8.  10.   4.   6.   4.   3.   3.   2.   1.]\n",
      " [  0.   2.   2.   8.  11.  13.  10.  17.   9.   7.   8.   2.   4.   1.]\n",
      " [  0.   2.   5.   8.  12.   6.  16.  15.  12.   8.   2.   5.   1.   0.]\n",
      " [  0.   1.   6.   7.   3.  12.  13.  12.   4.   9.   5.   3.   2.   1.]\n",
      " [  0.   0.   4.   4.   5.  10.  18.   8.  11.   6.  10.   6.   4.   0.]\n",
      " [  0.   1.   4.   8.  11.  11.  11.  12.   7.   5.   6.   1.   2.   0.]\n",
      " [  0.   3.   2.   8.   6.   5.   8.  10.  14.   4.   8.   6.   3.   0.]\n",
      " [  0.   1.   5.   3.   3.   4.  15.  16.  10.   5.   5.   1.   1.   1.]\n",
      " [  0.   1.   1.   2.   4.   6.  12.  13.   4.   4.   9.   3.   4.   1.]\n",
      " [  0.   0.   4.   6.  11.  14.   8.   7.  15.   4.  10.   6.   2.   1.]\n",
      " [  0.   1.   6.   8.  12.   4.  13.   6.   4.   7.   2.   2.   1.   1.]\n",
      " [  0.   2.   5.   6.   5.   7.  16.  13.  12.   9.   6.   4.   4.   1.]\n",
      " [  0.   3.   5.   7.   3.   6.  16.   4.  13.  10.   2.   3.   4.   1.]]\n"
     ]
    }
   ],
   "source": [
    "print (small_slice)"
   ]
  },
  {
   "cell_type": "code",
   "execution_count": 34,
   "metadata": {
    "collapsed": false
   },
   "outputs": [
    {
     "data": {
      "text/plain": [
       "array([[  0.,   6.,   8.,   6.,  20.,   8.,  24.,  26.,  14.,  12.,   8.,\n",
       "         14.,   4.,   0.],\n",
       "       [  0.,   0.,   4.,  14.,  18.,  16.,  20.,   8.,  12.,   8.,   6.,\n",
       "          6.,   4.,   2.],\n",
       "       [  0.,   4.,   4.,  16.,  22.,  26.,  20.,  34.,  18.,  14.,  16.,\n",
       "          4.,   8.,   2.],\n",
       "       [  0.,   4.,  10.,  16.,  24.,  12.,  32.,  30.,  24.,  16.,   4.,\n",
       "         10.,   2.,   0.],\n",
       "       [  0.,   2.,  12.,  14.,   6.,  24.,  26.,  24.,   8.,  18.,  10.,\n",
       "          6.,   4.,   2.],\n",
       "       [  0.,   0.,   8.,   8.,  10.,  20.,  36.,  16.,  22.,  12.,  20.,\n",
       "         12.,   8.,   0.],\n",
       "       [  0.,   2.,   8.,  16.,  22.,  22.,  22.,  24.,  14.,  10.,  12.,\n",
       "          2.,   4.,   0.],\n",
       "       [  0.,   6.,   4.,  16.,  12.,  10.,  16.,  20.,  28.,   8.,  16.,\n",
       "         12.,   6.,   0.],\n",
       "       [  0.,   2.,  10.,   6.,   6.,   8.,  30.,  32.,  20.,  10.,  10.,\n",
       "          2.,   2.,   2.],\n",
       "       [  0.,   2.,   2.,   4.,   8.,  12.,  24.,  26.,   8.,   8.,  18.,\n",
       "          6.,   8.,   2.],\n",
       "       [  0.,   0.,   8.,  12.,  22.,  28.,  16.,  14.,  30.,   8.,  20.,\n",
       "         12.,   4.,   2.],\n",
       "       [  0.,   2.,  12.,  16.,  24.,   8.,  26.,  12.,   8.,  14.,   4.,\n",
       "          4.,   2.,   2.],\n",
       "       [  0.,   4.,  10.,  12.,  10.,  14.,  32.,  26.,  24.,  18.,  12.,\n",
       "          8.,   8.,   2.],\n",
       "       [  0.,   6.,  10.,  14.,   6.,  12.,  32.,   8.,  26.,  20.,   4.,\n",
       "          6.,   8.,   2.]])"
      ]
     },
     "execution_count": 34,
     "metadata": {},
     "output_type": "execute_result"
    }
   ],
   "source": [
    "small_slice*2"
   ]
  },
  {
   "cell_type": "code",
   "execution_count": 35,
   "metadata": {
    "collapsed": false
   },
   "outputs": [
    {
     "name": "stdout",
     "output_type": "stream",
     "text": [
      "[[  0.   6.   8.   6.  20.   8.  24.  26.  14.  12.   8.  14.   4.   0.]\n",
      " [  0.   0.   4.  14.  18.  16.  20.   8.  12.   8.   6.   6.   4.   2.]\n",
      " [  0.   4.   4.  16.  22.  26.  20.  34.  18.  14.  16.   4.   8.   2.]\n",
      " [  0.   4.  10.  16.  24.  12.  32.  30.  24.  16.   4.  10.   2.   0.]\n",
      " [  0.   2.  12.  14.   6.  24.  26.  24.   8.  18.  10.   6.   4.   2.]\n",
      " [  0.   0.   8.   8.  10.  20.  36.  16.  22.  12.  20.  12.   8.   0.]\n",
      " [  0.   2.   8.  16.  22.  22.  22.  24.  14.  10.  12.   2.   4.   0.]\n",
      " [  0.   6.   4.  16.  12.  10.  16.  20.  28.   8.  16.  12.   6.   0.]\n",
      " [  0.   2.  10.   6.   6.   8.  30.  32.  20.  10.  10.   2.   2.   2.]\n",
      " [  0.   2.   2.   4.   8.  12.  24.  26.   8.   8.  18.   6.   8.   2.]\n",
      " [  0.   0.   8.  12.  22.  28.  16.  14.  30.   8.  20.  12.   4.   2.]\n",
      " [  0.   2.  12.  16.  24.   8.  26.  12.   8.  14.   4.   4.   2.   2.]\n",
      " [  0.   4.  10.  12.  10.  14.  32.  26.  24.  18.  12.   8.   8.   2.]\n",
      " [  0.   6.  10.  14.   6.  12.  32.   8.  26.  20.   4.   6.   8.   2.]]\n"
     ]
    }
   ],
   "source": [
    "print (small_slice*2)"
   ]
  },
  {
   "cell_type": "code",
   "execution_count": 36,
   "metadata": {
    "collapsed": true
   },
   "outputs": [],
   "source": [
    "double_small_slice = small_slice*2"
   ]
  },
  {
   "cell_type": "code",
   "execution_count": 37,
   "metadata": {
    "collapsed": false
   },
   "outputs": [
    {
     "name": "stdout",
     "output_type": "stream",
     "text": [
      "[[  0.   6.   8.   6.  20.   8.  24.  26.  14.  12.   8.  14.   4.   0.]\n",
      " [  0.   0.   4.  14.  18.  16.  20.   8.  12.   8.   6.   6.   4.   2.]\n",
      " [  0.   4.   4.  16.  22.  26.  20.  34.  18.  14.  16.   4.   8.   2.]\n",
      " [  0.   4.  10.  16.  24.  12.  32.  30.  24.  16.   4.  10.   2.   0.]\n",
      " [  0.   2.  12.  14.   6.  24.  26.  24.   8.  18.  10.   6.   4.   2.]\n",
      " [  0.   0.   8.   8.  10.  20.  36.  16.  22.  12.  20.  12.   8.   0.]\n",
      " [  0.   2.   8.  16.  22.  22.  22.  24.  14.  10.  12.   2.   4.   0.]\n",
      " [  0.   6.   4.  16.  12.  10.  16.  20.  28.   8.  16.  12.   6.   0.]\n",
      " [  0.   2.  10.   6.   6.   8.  30.  32.  20.  10.  10.   2.   2.   2.]\n",
      " [  0.   2.   2.   4.   8.  12.  24.  26.   8.   8.  18.   6.   8.   2.]\n",
      " [  0.   0.   8.  12.  22.  28.  16.  14.  30.   8.  20.  12.   4.   2.]\n",
      " [  0.   2.  12.  16.  24.   8.  26.  12.   8.  14.   4.   4.   2.   2.]\n",
      " [  0.   4.  10.  12.  10.  14.  32.  26.  24.  18.  12.   8.   8.   2.]\n",
      " [  0.   6.  10.  14.   6.  12.  32.   8.  26.  20.   4.   6.   8.   2.]]\n"
     ]
    }
   ],
   "source": [
    "print (double_small_slice)"
   ]
  },
  {
   "cell_type": "code",
   "execution_count": 38,
   "metadata": {
    "collapsed": false
   },
   "outputs": [
    {
     "ename": "AttributeError",
     "evalue": "module 'numpy' has no attribute 'MAX'",
     "output_type": "error",
     "traceback": [
      "\u001b[1;31m---------------------------------------------------------------------------\u001b[0m",
      "\u001b[1;31mAttributeError\u001b[0m                            Traceback (most recent call last)",
      "\u001b[1;32m<ipython-input-38-c917fa65b7b0>\u001b[0m in \u001b[0;36m<module>\u001b[1;34m()\u001b[0m\n\u001b[1;32m----> 1\u001b[1;33m \u001b[0mnp\u001b[0m\u001b[1;33m.\u001b[0m\u001b[0mMAX\u001b[0m\u001b[1;33m(\u001b[0m\u001b[0mINF_DATA\u001b[0m\u001b[1;33m)\u001b[0m\u001b[1;33m\u001b[0m\u001b[0m\n\u001b[0m",
      "\u001b[1;31mAttributeError\u001b[0m: module 'numpy' has no attribute 'MAX'"
     ]
    }
   ],
   "source": [
    "np.MAX(INF_DATA)"
   ]
  },
  {
   "cell_type": "code",
   "execution_count": 39,
   "metadata": {
    "collapsed": false
   },
   "outputs": [
    {
     "data": {
      "text/plain": [
       "0.0"
      ]
     },
     "execution_count": 39,
     "metadata": {},
     "output_type": "execute_result"
    }
   ],
   "source": [
    "np.min(inf_data)"
   ]
  },
  {
   "cell_type": "code",
   "execution_count": 40,
   "metadata": {
    "collapsed": false
   },
   "outputs": [
    {
     "data": {
      "text/plain": [
       "20.0"
      ]
     },
     "execution_count": 40,
     "metadata": {},
     "output_type": "execute_result"
    }
   ],
   "source": [
    "np.max(inf_data)"
   ]
  },
  {
   "cell_type": "code",
   "execution_count": 42,
   "metadata": {
    "collapsed": false
   },
   "outputs": [
    {
     "data": {
      "text/plain": [
       "5.4500000000000002"
      ]
     },
     "execution_count": 42,
     "metadata": {},
     "output_type": "execute_result"
    }
   ],
   "source": [
    "np.mean(inf_data[0,:])"
   ]
  },
  {
   "cell_type": "code",
   "execution_count": 50,
   "metadata": {
    "collapsed": false
   },
   "outputs": [
    {
     "name": "stdout",
     "output_type": "stream",
     "text": [
      "[ 0.          0.49749372  0.73238575  1.05869416  1.1308797   1.37628728\n",
      "  1.71075032  1.95014244  1.9267128   2.26194361  2.74119803  2.50798724\n",
      "  3.13488437  3.0922843   3.75040739  4.02285139  3.82226663  3.54008788\n",
      "  3.94701012  4.50120354  4.24116729  4.54960316  4.19907397  4.09945796\n",
      "  3.7103459   3.60863163  3.21364279  2.77863876  2.68121034  3.19526559\n",
      "  2.5157283   2.10890967  1.62369606  1.78138523  1.76351921  1.38283123\n",
      "  1.11790976  1.161895    0.8055364   0.49553562]\n"
     ]
    }
   ],
   "source": [
    "print(inf_data.std(axis=0))"
   ]
  },
  {
   "cell_type": "code",
   "execution_count": 51,
   "metadata": {
    "collapsed": true
   },
   "outputs": [],
   "source": [
    "avg_daily=inf_data.mean(axis=0)\n",
    "max_daily=inf_data.max(axis=0)\n",
    "min_daily=inf_data.min(axis=0)\n",
    "std_daily=inf_data.std(axis=0)"
   ]
  },
  {
   "cell_type": "code",
   "execution_count": 53,
   "metadata": {
    "collapsed": false
   },
   "outputs": [],
   "source": [
    "%matplotlib inline\n",
    "import matplotlib.pyplot as plt"
   ]
  },
  {
   "cell_type": "code",
   "execution_count": 54,
   "metadata": {
    "collapsed": false
   },
   "outputs": [
    {
     "data": {
      "image/png": "[encoded data removed]",
      "text/plain": [
       "<matplotlib.figure.Figure at 0x7f5e65bc4d68>"
      ]
     },
     "metadata": {},
     "output_type": "display_data"
    }
   ],
   "source": [
    "image =plt.imshow(inf_data)\n",
    "plt.show()"
   ]
  },
  {
   "cell_type": "code",
   "execution_count": 56,
   "metadata": {
    "collapsed": false
   },
   "outputs": [
    {
     "data": {
      "image/png": "[encoded data removed]",
      "text/plain": [
       "<matplotlib.figure.Figure at 0x7f5e64e6b390>"
      ]
     },
     "metadata": {},
     "output_type": "display_data"
    }
   ],
   "source": [
    "avg_plot = plt.plot(avg_daily)\n",
    "plt.show()"
   ]
  },
  {
   "cell_type": "code",
   "execution_count": 57,
   "metadata": {
    "collapsed": false
   },
   "outputs": [
    {
     "data": {
      "image/png": "[encoded data removed]",
      "text/plain": [
       "<matplotlib.figure.Figure at 0x7f5e62d776a0>"
      ]
     },
     "metadata": {},
     "output_type": "display_data"
    }
   ],
   "source": [
    "max_plot = plt.plot(max_daily)\n",
    "plt.show()"
   ]
  },
  {
   "cell_type": "code",
   "execution_count": 61,
   "metadata": {
    "collapsed": false
   },
   "outputs": [
    {
     "data": {
      "image/png": "[encoded data removed]",
      "text/plain": [
       "<matplotlib.figure.Figure at 0x7f5e62cb4dd8>"
      ]
     },
     "metadata": {},
     "output_type": "display_data"
    }
   ],
   "source": [
    "min_plot=plt.plot(min_daily)\n",
    "plt.show()"
   ]
  },
  {
   "cell_type": "code",
   "execution_count": 60,
   "metadata": {
    "collapsed": false
   },
   "outputs": [
    {
     "data": {
      "image/png": "[encoded data removed]",
      "text/plain": [
       "<matplotlib.figure.Figure at 0x7f5e62c8b4e0>"
      ]
     },
     "metadata": {},
     "output_type": "display_data"
    }
   ],
   "source": [
    "std_plot=plt.plot(std_daily)\n",
    "plt.show()"
   ]
  },
  {
   "cell_type": "code",
   "execution_count": 98,
   "metadata": {
    "collapsed": false
   },
   "outputs": [
    {
     "ename": "NameError",
     "evalue": "name 'file_name' is not defined",
     "output_type": "error",
     "traceback": [
      "\u001b[1;31m---------------------------------------------------------------------------\u001b[0m",
      "\u001b[1;31mNameError\u001b[0m                                 Traceback (most recent call last)",
      "\u001b[1;32m<ipython-input-98-176e97e5dd27>\u001b[0m in \u001b[0;36m<module>\u001b[1;34m()\u001b[0m\n\u001b[0;32m      7\u001b[0m \u001b[1;33m\u001b[0m\u001b[0m\n\u001b[0;32m      8\u001b[0m \u001b[1;33m\u001b[0m\u001b[0m\n\u001b[1;32m----> 9\u001b[1;33m \u001b[0minf_data\u001b[0m \u001b[1;33m=\u001b[0m \u001b[0mnp\u001b[0m\u001b[1;33m.\u001b[0m\u001b[0mloadtxt\u001b[0m\u001b[1;33m(\u001b[0m\u001b[0mfile_name\u001b[0m\u001b[1;33m,\u001b[0m \u001b[0mdelimiter\u001b[0m\u001b[1;33m=\u001b[0m\u001b[1;34m\",\"\u001b[0m\u001b[1;33m)\u001b[0m\u001b[1;33m\u001b[0m\u001b[0m\n\u001b[0m\u001b[0;32m     10\u001b[0m \u001b[1;33m\u001b[0m\u001b[0m\n\u001b[0;32m     11\u001b[0m \u001b[0mavg_daily\u001b[0m\u001b[1;33m=\u001b[0m\u001b[0minf_data\u001b[0m\u001b[1;33m.\u001b[0m\u001b[0mmean\u001b[0m\u001b[1;33m(\u001b[0m\u001b[0maxis\u001b[0m\u001b[1;33m=\u001b[0m\u001b[1;36m0\u001b[0m\u001b[1;33m)\u001b[0m\u001b[1;33m\u001b[0m\u001b[0m\n",
      "\u001b[1;31mNameError\u001b[0m: name 'file_name' is not defined"
     ]
    }
   ],
   "source": [
    "def analysis (file_name):   \n",
    "    '''\n",
    "    This function analyses a given file and plots its column-wise\n",
    "    mean, max, min and std.\n",
    "    Example:\n",
    "          analyse ('path_to_data_file')\n",
    "          output: 1 plot with 4 subplots\n",
    "    '''\n",
    "    \n",
    "    import numpy as np\n",
    "    import matplotlib.pyplot as plt\n",
    "\n",
    "    #read my data\n",
    "\n",
    "\n",
    "    inf_data = np.loadtxt(file_name, delimiter=\",\")\n",
    "\n",
    "    avg_daily=inf_data.mean(axis=0)\n",
    "    max_daily=inf_data.max(axis=0)\n",
    "    min_daily=inf_data.min(axis=0)\n",
    "    std_daily=inf_data.std(axis=0)\n",
    "\n",
    "    fig = plt.figure(figsize=(10.0, 6.0))\n",
    "\n",
    "    fig1 = fig.add_subplot(2,2,1)\n",
    "\n",
    "    fig2 = fig.add_subplot(2,2,2)\n",
    "\n",
    "    fig3 = fig.add_subplot(2,2,3)\n",
    "\n",
    "    fig4 = fig.add_subplot(2,2,4)\n",
    "\n",
    "    fig1.set_ylabel('mean')\n",
    "    fig1.plot(avg_daily)\n",
    "\n",
    "    fig2.set_ylabel('max')\n",
    "    fig2.plot(max_daily)\n",
    "\n",
    "    fig3.set_ylabel('min')\n",
    "    fig3.plot(min_daily)\n",
    "\n",
    "    fig4.set_ylabel('std')\n",
    "    fig4.plot(std_daily)\n",
    "\n",
    "    plt.show()\n",
    "\n"
   ]
  },
  {
   "cell_type": "code",
   "execution_count": 70,
   "metadata": {
    "collapsed": false
   },
   "outputs": [
    {
     "name": "stdout",
     "output_type": "stream",
     "text": [
      "first three characters: oxy\n",
      "last three characters: gen\n"
     ]
    }
   ],
   "source": [
    "element = \"oxygen\"\n",
    "print ('first three characters:', element[0:3])\n",
    "print ('last three characters:', element[3:6])\n",
    "\n"
   ]
  },
  {
   "cell_type": "code",
   "execution_count": 69,
   "metadata": {
    "collapsed": false
   },
   "outputs": [
    {
     "data": {
      "text/plain": [
       "'en'"
      ]
     },
     "execution_count": 69,
     "metadata": {},
     "output_type": "execute_result"
    }
   ],
   "source": [
    "element[-2:]"
   ]
  },
  {
   "cell_type": "code",
   "execution_count": 71,
   "metadata": {
    "collapsed": false
   },
   "outputs": [
    {
     "data": {
      "text/plain": [
       "'xyge'"
      ]
     },
     "execution_count": 71,
     "metadata": {},
     "output_type": "execute_result"
    }
   ],
   "source": [
    "element [1:-1]"
   ]
  },
  {
   "cell_type": "code",
   "execution_count": 72,
   "metadata": {
    "collapsed": true
   },
   "outputs": [],
   "source": [
    "def fahr_to_celsius (ftemp):\n",
    "    ctemp = (ftemp -32) * (5/9)\n",
    "    return (ctemp)\n"
   ]
  },
  {
   "cell_type": "code",
   "execution_count": 78,
   "metadata": {
    "collapsed": false
   },
   "outputs": [
    {
     "name": "stdout",
     "output_type": "stream",
     "text": [
      "37.78\n"
     ]
    }
   ],
   "source": [
    "print(round(fahr_to_celsius(100),2))\n"
   ]
  },
  {
   "cell_type": "code",
   "execution_count": 79,
   "metadata": {
    "collapsed": true
   },
   "outputs": [],
   "source": [
    "def celsius_to_kelvin(ctemp):\n",
    "    ktemp = ctemp + 273.15\n",
    "    return (ktemp)\n"
   ]
  },
  {
   "cell_type": "code",
   "execution_count": 80,
   "metadata": {
    "collapsed": false
   },
   "outputs": [
    {
     "data": {
      "text/plain": [
       "305.15"
      ]
     },
     "execution_count": 80,
     "metadata": {},
     "output_type": "execute_result"
    }
   ],
   "source": [
    "celsius_to_kelvin(32)"
   ]
  },
  {
   "cell_type": "code",
   "execution_count": 81,
   "metadata": {
    "collapsed": true
   },
   "outputs": [],
   "source": [
    "def celsius_fahr_to_kelvin (ftemp):\n",
    "    ktemp = (ftemp-32)*(5/9)+273.15\n",
    "    return (ktemp)"
   ]
  },
  {
   "cell_type": "code",
   "execution_count": 82,
   "metadata": {
    "collapsed": false
   },
   "outputs": [
    {
     "data": {
      "text/plain": [
       "310.92777777777775"
      ]
     },
     "execution_count": 82,
     "metadata": {},
     "output_type": "execute_result"
    }
   ],
   "source": [
    "celsius_fahr_to_kelvin(100)"
   ]
  },
  {
   "cell_type": "code",
   "execution_count": 94,
   "metadata": {
    "collapsed": true
   },
   "outputs": [],
   "source": [
    "def celsius_fahr_to_kelvin (ftemp):\n",
    "    '''\n",
    "    celsius_fahr_to_kelvin (ftemp)\n",
    "        This is a help document and converts it into kelvin.\n",
    "        Example:\n",
    "             XXXXXXXX\n",
    "    '''\n",
    "    ctemp=fahr_to_celsius(ftemp)\n",
    "    ktemp=celsius_to_kelvin(ctemp)\n",
    "    return ktemp"
   ]
  },
  {
   "cell_type": "code",
   "execution_count": 95,
   "metadata": {
    "collapsed": false,
    "scrolled": true
   },
   "outputs": [
    {
     "name": "stdout",
     "output_type": "stream",
     "text": [
      "Help on function celsius_fahr_to_kelvin in module __main__:\n",
      "\n",
      "celsius_fahr_to_kelvin(ftemp)\n",
      "    celsius_fahr_to_kelvin (ftemp)\n",
      "        This is a help document and converts it into kelvin.\n",
      "        Example:\n",
      "             XXXXXXXX\n",
      "\n"
     ]
    }
   ],
   "source": [
    "help((celsius_fahr_to_kelvin))"
   ]
  },
  {
   "cell_type": "code",
   "execution_count": 93,
   "metadata": {
    "collapsed": false
   },
   "outputs": [
    {
     "name": "stdout",
     "output_type": "stream",
     "text": [
      "Help on function loadtxt in module numpy.lib.npyio:\n",
      "\n",
      "loadtxt(fname, dtype=<class 'float'>, comments='#', delimiter=None, converters=None, skiprows=0, usecols=None, unpack=False, ndmin=0)\n",
      "    Load data from a text file.\n",
      "    \n",
      "    Each row in the text file must have the same number of values.\n",
      "    \n",
      "    Parameters\n",
      "    ----------\n",
      "    fname : file or str\n",
      "        File, filename, or generator to read.  If the filename extension is\n",
      "        ``.gz`` or ``.bz2``, the file is first decompressed. Note that\n",
      "        generators should return byte strings for Python 3k.\n",
      "    dtype : data-type, optional\n",
      "        Data-type of the resulting array; default: float.  If this is a\n",
      "        structured data-type, the resulting array will be 1-dimensional, and\n",
      "        each row will be interpreted as an element of the array.  In this\n",
      "        case, the number of columns used must match the number of fields in\n",
      "        the data-type.\n",
      "    comments : str or sequence, optional\n",
      "        The characters or list of characters used to indicate the start of a\n",
      "        comment;\n",
      "        default: '#'.\n",
      "    delimiter : str, optional\n",
      "        The string used to separate values.  By default, this is any\n",
      "        whitespace.\n",
      "    converters : dict, optional\n",
      "        A dictionary mapping column number to a function that will convert\n",
      "        that column to a float.  E.g., if column 0 is a date string:\n",
      "        ``converters = {0: datestr2num}``.  Converters can also be used to\n",
      "        provide a default value for missing data (but see also `genfromtxt`):\n",
      "        ``converters = {3: lambda s: float(s.strip() or 0)}``.  Default: None.\n",
      "    skiprows : int, optional\n",
      "        Skip the first `skiprows` lines; default: 0.\n",
      "    usecols : sequence, optional\n",
      "        Which columns to read, with 0 being the first.  For example,\n",
      "        ``usecols = (1,4,5)`` will extract the 2nd, 5th and 6th columns.\n",
      "        The default, None, results in all columns being read.\n",
      "    unpack : bool, optional\n",
      "        If True, the returned array is transposed, so that arguments may be\n",
      "        unpacked using ``x, y, z = loadtxt(...)``.  When used with a structured\n",
      "        data-type, arrays are returned for each field.  Default is False.\n",
      "    ndmin : int, optional\n",
      "        The returned array will have at least `ndmin` dimensions.\n",
      "        Otherwise mono-dimensional axes will be squeezed.\n",
      "        Legal values: 0 (default), 1 or 2.\n",
      "    \n",
      "        .. versionadded:: 1.6.0\n",
      "    \n",
      "    Returns\n",
      "    -------\n",
      "    out : ndarray\n",
      "        Data read from the text file.\n",
      "    \n",
      "    See Also\n",
      "    --------\n",
      "    load, fromstring, fromregex\n",
      "    genfromtxt : Load data with missing values handled as specified.\n",
      "    scipy.io.loadmat : reads MATLAB data files\n",
      "    \n",
      "    Notes\n",
      "    -----\n",
      "    This function aims to be a fast reader for simply formatted files.  The\n",
      "    `genfromtxt` function provides more sophisticated handling of, e.g.,\n",
      "    lines with missing values.\n",
      "    \n",
      "    .. versionadded:: 1.10.0\n",
      "    \n",
      "    The strings produced by the Python float.hex method can be used as\n",
      "    input for floats.\n",
      "    \n",
      "    Examples\n",
      "    --------\n",
      "    >>> from io import StringIO   # StringIO behaves like a file object\n",
      "    >>> c = StringIO(\"0 1\\n2 3\")\n",
      "    >>> np.loadtxt(c)\n",
      "    array([[ 0.,  1.],\n",
      "           [ 2.,  3.]])\n",
      "    \n",
      "    >>> d = StringIO(\"M 21 72\\nF 35 58\")\n",
      "    >>> np.loadtxt(d, dtype={'names': ('gender', 'age', 'weight'),\n",
      "    ...                      'formats': ('S1', 'i4', 'f4')})\n",
      "    array([('M', 21, 72.0), ('F', 35, 58.0)],\n",
      "          dtype=[('gender', '|S1'), ('age', '<i4'), ('weight', '<f4')])\n",
      "    \n",
      "    >>> c = StringIO(\"1,0,2\\n3,0,4\")\n",
      "    >>> x, y = np.loadtxt(c, delimiter=',', usecols=(0, 2), unpack=True)\n",
      "    >>> x\n",
      "    array([ 1.,  3.])\n",
      "    >>> y\n",
      "    array([ 2.,  4.])\n",
      "\n"
     ]
    }
   ],
   "source": [
    "help (numpy.loadtxt)"
   ]
  },
  {
   "cell_type": "code",
   "execution_count": 96,
   "metadata": {
    "collapsed": false
   },
   "outputs": [
    {
     "data": {
      "text/plain": [
       "<module 'numpy.version' from '/home/nelle/anaconda3/lib/python3.5/site-packages/numpy/version.py'>"
      ]
     },
     "execution_count": 96,
     "metadata": {},
     "output_type": "execute_result"
    }
   ],
   "source": [
    "np.version"
   ]
  },
  {
   "cell_type": "code",
   "execution_count": 101,
   "metadata": {
    "collapsed": true
   },
   "outputs": [],
   "source": [
    "analysis(\"data/inflammation-01.csv\")"
   ]
  },
  {
   "cell_type": "code",
   "execution_count": 105,
   "metadata": {
    "collapsed": true
   },
   "outputs": [],
   "source": [
    "analysis(\"data/inflammation-08.csv\")"
   ]
  },
  {
   "cell_type": "code",
   "execution_count": null,
   "metadata": {
    "collapsed": true
   },
   "outputs": [],
   "source": []
  },
  {
   "cell_type": "code",
   "execution_count": 112,
   "metadata": {
    "collapsed": false
   },
   "outputs": [],
   "source": [
    "def analysis (file_name, data_del=\",\"):   \n",
    "    '''\n",
    "    This function analyses a given file and plots its column-wise\n",
    "    mean, max, min and std.\n",
    "    Example:\n",
    "          analyse ('path_to_data_file')\n",
    "          output: 1 plot with 4 subplots\n",
    "    '''\n",
    "    \n",
    "    import numpy as np\n",
    "    import matplotlib.pyplot as plt\n",
    "\n",
    "    #read my data\n",
    "\n",
    "\n",
    "    inf_data = np.loadtxt(file_name, delimiter=data_del)\n",
    "    \n",
    "\n",
    "    avg_daily=inf_data.mean(axis=0)\n",
    "    max_daily=inf_data.max(axis=0)\n",
    "    min_daily=inf_data.min(axis=0)\n",
    "    std_daily=inf_data.std(axis=0)\n",
    "\n",
    "    fig = plt.figure(figsize=(10.0, 6.0))\n",
    "\n",
    "    fig1 = fig.add_subplot(2,2,1)\n",
    "\n",
    "    fig2 = fig.add_subplot(2,2,2)\n",
    "\n",
    "    fig3 = fig.add_subplot(2,2,3)\n",
    "\n",
    "    fig4 = fig.add_subplot(2,2,4)\n",
    "\n",
    "    fig1.set_ylabel('mean')\n",
    "    fig1.plot(avg_daily)\n",
    "\n",
    "    fig2.set_ylabel('max')\n",
    "    fig2.plot(max_daily)\n",
    "\n",
    "    fig3.set_ylabel('min')\n",
    "    fig3.plot(min_daily)\n",
    "\n",
    "    fig4.set_ylabel('std')\n",
    "    fig4.plot(std_daily)\n",
    "\n",
    "    plt.show()\n",
    "\n"
   ]
  },
  {
   "cell_type": "code",
   "execution_count": 113,
   "metadata": {
    "collapsed": false
   },
   "outputs": [
    {
     "data": {
      "image/png": "[encoded data removed]",
      "text/plain": [
       "<matplotlib.figure.Figure at 0x7f5e62a9eb38>"
      ]
     },
     "metadata": {},
     "output_type": "display_data"
    }
   ],
   "source": [
    "analysis(\"data/inflammation-01.csv\")"
   ]
  },
  {
   "cell_type": "code",
   "execution_count": 116,
   "metadata": {
    "collapsed": false
   },
   "outputs": [
    {
     "name": "stdout",
     "output_type": "stream",
     "text": [
      "l\n",
      "e\n",
      "a\n",
      "d\n",
      "i\n",
      "n\n",
      "g\n"
     ]
    }
   ],
   "source": [
    "word ='leading'\n",
    "\n",
    "for chart in word:\n",
    "    print (chart)\n",
    "    \n",
    "    "
   ]
  },
  {
   "cell_type": "code",
   "execution_count": 117,
   "metadata": {
    "collapsed": false
   },
   "outputs": [
    {
     "name": "stdout",
     "output_type": "stream",
     "text": [
      "ab\n"
     ]
    }
   ],
   "source": [
    "print (\"a\"+\"b\")"
   ]
  },
  {
   "cell_type": "code",
   "execution_count": 120,
   "metadata": {
    "collapsed": false
   },
   "outputs": [
    {
     "name": "stdout",
     "output_type": "stream",
     "text": [
      "oaixbob\n"
     ]
    }
   ],
   "source": [
    "name =\"bobxiao\"\n",
    "newname =\"\"\n",
    "\n",
    "for char in name:\n",
    "    newname = char + newname\n",
    "    \n",
    "print(newname)\n",
    "    "
   ]
  },
  {
   "cell_type": "code",
   "execution_count": 121,
   "metadata": {
    "collapsed": false
   },
   "outputs": [
    {
     "name": "stdout",
     "output_type": "stream",
     "text": [
      "0\n",
      "1\n",
      "2\n",
      "3\n",
      "4\n",
      "5\n",
      "6\n",
      "7\n",
      "8\n",
      "9\n",
      "10\n",
      "11\n",
      "12\n",
      "13\n",
      "14\n",
      "15\n",
      "16\n",
      "17\n",
      "18\n",
      "19\n",
      "20\n",
      "21\n",
      "22\n",
      "23\n",
      "24\n",
      "25\n",
      "26\n",
      "27\n",
      "28\n",
      "29\n",
      "30\n",
      "31\n",
      "32\n",
      "33\n",
      "34\n",
      "35\n",
      "36\n",
      "37\n",
      "38\n",
      "39\n",
      "40\n",
      "41\n",
      "42\n",
      "43\n",
      "44\n",
      "45\n",
      "46\n",
      "47\n",
      "48\n",
      "49\n",
      "50\n",
      "51\n",
      "52\n",
      "53\n",
      "54\n",
      "55\n",
      "56\n",
      "57\n",
      "58\n",
      "59\n",
      "60\n",
      "61\n",
      "62\n",
      "63\n",
      "64\n",
      "65\n",
      "66\n",
      "67\n",
      "68\n",
      "69\n",
      "70\n",
      "71\n",
      "72\n",
      "73\n",
      "74\n",
      "75\n",
      "76\n",
      "77\n",
      "78\n",
      "79\n",
      "80\n",
      "81\n",
      "82\n",
      "83\n",
      "84\n",
      "85\n",
      "86\n",
      "87\n",
      "88\n",
      "89\n",
      "90\n",
      "91\n",
      "92\n",
      "93\n",
      "94\n",
      "95\n",
      "96\n",
      "97\n",
      "98\n",
      "99\n"
     ]
    }
   ],
   "source": [
    "n=100\n",
    "for ind in range(0,n):\n",
    "    print (ind)\n"
   ]
  },
  {
   "cell_type": "code",
   "execution_count": 122,
   "metadata": {
    "collapsed": false
   },
   "outputs": [
    {
     "name": "stdout",
     "output_type": "stream",
     "text": [
      "5\n"
     ]
    }
   ],
   "source": [
    "vowels = 'aeiou'\n",
    "\n",
    "length=0\n",
    "\n",
    "for char in vowels:\n",
    "    length = length +1\n",
    "\n",
    "print (length)\n"
   ]
  },
  {
   "cell_type": "code",
   "execution_count": 148,
   "metadata": {
    "collapsed": false
   },
   "outputs": [
    {
     "name": "stdout",
     "output_type": "stream",
     "text": [
      "results/inflammation-01.png\n",
      "data/inflammation-01.csv\n",
      "results/inflammation-02.png\n",
      "data/inflammation-02.csv\n",
      "results/inflammation-03.png\n",
      "data/inflammation-03.csv\n",
      "results/inflammation-04.png\n",
      "data/inflammation-04.csv\n",
      "results/inflammation-05.png\n",
      "data/inflammation-05.csv\n",
      "results/inflammation-06.png\n",
      "data/inflammation-06.csv\n",
      "results/inflammation-07.png\n",
      "data/inflammation-07.csv\n",
      "results/inflammation-08.png\n",
      "data/inflammation-08.csv\n",
      "results/inflammation-09.png\n",
      "data/inflammation-09.csv\n",
      "results/inflammation-10.png\n",
      "data/inflammation-10.csv\n",
      "results/inflammation-11.png\n",
      "data/inflammation-11.csv\n",
      "results/inflammation-12.png\n",
      "data/inflammation-12.csv\n"
     ]
    }
   ],
   "source": [
    "import glob as gb\n",
    "\n",
    "file_name = sorted(gb.glob('data/inf*'))\n",
    "\n",
    "\n",
    "for file in file_name:\n",
    "    \n",
    "    output_name=file.replace('csv','png')\n",
    "    output_name=output_name.replace('data','results')\n",
    "    print(output_name)\n",
    "    print(file)\n",
    "    analysis(file, plot_name=output_name)\n",
    "    "
   ]
  },
  {
   "cell_type": "code",
   "execution_count": null,
   "metadata": {
    "collapsed": false
   },
   "outputs": [],
   "source": []
  },
  {
   "cell_type": "code",
   "execution_count": 147,
   "metadata": {
    "collapsed": false
   },
   "outputs": [],
   "source": [
    "def analysis (file_name, data_del=\",\", plot_name=None):   \n",
    "    '''\n",
    "    This function analyses a given file and plots its column-wise\n",
    "    mean, max, min and std.\n",
    "    Example:\n",
    "          analyse ('path_to_data_file')\n",
    "          output: 1 plot with 4 subplots\n",
    "    '''\n",
    "    \n",
    "    import numpy as np\n",
    "    import matplotlib.pyplot as plt\n",
    "\n",
    "    #read my data\n",
    "\n",
    "\n",
    "    inf_data = np.loadtxt(file_name, delimiter=data_del)\n",
    "    \n",
    "\n",
    "    avg_daily=inf_data.mean(axis=0)\n",
    "    max_daily=inf_data.max(axis=0)\n",
    "    min_daily=inf_data.min(axis=0)\n",
    "    std_daily=inf_data.std(axis=0)\n",
    "\n",
    "    fig = plt.figure(figsize=(10.0, 6.0))\n",
    "\n",
    "    fig1 = fig.add_subplot(2,2,1)\n",
    "\n",
    "    fig2 = fig.add_subplot(2,2,2)\n",
    "\n",
    "    fig3 = fig.add_subplot(2,2,3)\n",
    "\n",
    "    fig4 = fig.add_subplot(2,2,4)\n",
    "\n",
    "    fig1.set_ylabel('mean')\n",
    "    fig1.plot(avg_daily)\n",
    "\n",
    "    fig2.set_ylabel('max')\n",
    "    fig2.plot(max_daily)\n",
    "\n",
    "    fig3.set_ylabel('min')\n",
    "    fig3.plot(min_daily)\n",
    "\n",
    "    fig4.set_ylabel('std')\n",
    "    fig4.plot(std_daily)\n",
    "\n",
    "    plt.savefig(plot_name)\n",
    "    plt.close()\n",
    "    \n",
    "\n"
   ]
  },
  {
   "cell_type": "code",
   "execution_count": 138,
   "metadata": {
    "collapsed": true
   },
   "outputs": [],
   "source": [
    "f = \"data/inflammation-01.csv\"\n",
    "\n"
   ]
  },
  {
   "cell_type": "code",
   "execution_count": 142,
   "metadata": {
    "collapsed": false
   },
   "outputs": [
    {
     "name": "stdout",
     "output_type": "stream",
     "text": [
      "results/inflammation-01.png\n"
     ]
    }
   ],
   "source": [
    "f = f.replace('csv','png')\n",
    "f = f.replace ('data','results')\n",
    "print (f)"
   ]
  },
  {
   "cell_type": "code",
   "execution_count": 156,
   "metadata": {
    "collapsed": false
   },
   "outputs": [
    {
     "name": "stdout",
     "output_type": "stream",
     "text": [
      "num is zero\n",
      "done\n"
     ]
    }
   ],
   "source": [
    "num = 0\n",
    "\n",
    "if num>0:\n",
    "    print (\"positive\")\n",
    "elif num<0:\n",
    "    print (\"negative\")\n",
    "elif num == 0:\n",
    "    print (\"num is zero\")\n",
    "\n",
    "print (\"done\")"
   ]
  },
  {
   "cell_type": "code",
   "execution_count": 157,
   "metadata": {
    "collapsed": false
   },
   "outputs": [
    {
     "name": "stdout",
     "output_type": "stream",
     "text": [
      "False\n"
     ]
    }
   ],
   "source": [
    "num = 0\n",
    "print (num>0)\n"
   ]
  },
  {
   "cell_type": "code",
   "execution_count": 159,
   "metadata": {
    "collapsed": false
   },
   "outputs": [],
   "source": [
    "num = 35\n",
    "\n",
    "if (num > 100 and num < 150) or ((num>300 and num < 350)):\n",
    "    print (\"weird result\")\n"
   ]
  },
  {
   "cell_type": "code",
   "execution_count": 161,
   "metadata": {
    "collapsed": false
   },
   "outputs": [
    {
     "name": "stdout",
     "output_type": "stream",
     "text": [
      "F\n"
     ]
    }
   ],
   "source": [
    "num = 35\n",
    "\n",
    "if num >90:\n",
    "    print (\"A\")\n",
    "elif num>70:\n",
    "    print (\"B\")\n",
    "elif num>50:\n",
    "    print (\"C\")\n",
    "else:\n",
    "    print (\"F\")"
   ]
  },
  {
   "cell_type": "code",
   "execution_count": null,
   "metadata": {
    "collapsed": true
   },
   "outputs": [],
   "source": []
  },
  {
   "cell_type": "code",
   "execution_count": 162,
   "metadata": {
    "collapsed": false
   },
   "outputs": [],
   "source": [
    "def analysis (file_name, data_del=\",\", plot_name=None):   \n",
    "    '''\n",
    "    This function analyses a given file and plots its column-wise\n",
    "    mean, max, min and std.\n",
    "    Example:\n",
    "          analyse ('path_to_data_file')\n",
    "          output: 1 plot with 4 subplots\n",
    "    '''\n",
    "    \n",
    "    import numpy as np\n",
    "    import matplotlib.pyplot as plt\n",
    "\n",
    "    #read my data\n",
    "\n",
    "\n",
    "    inf_data = np.loadtxt(file_name, delimiter=data_del)\n",
    "    \n",
    "\n",
    "    avg_daily=inf_data.mean(axis=0)\n",
    "    max_daily=inf_data.max(axis=0)\n",
    "    min_daily=inf_data.min(axis=0)\n",
    "    std_daily=inf_data.std(axis=0)\n",
    "\n",
    "    fig = plt.figure(figsize=(10.0, 6.0))\n",
    "\n",
    "    fig1 = fig.add_subplot(2,2,1)\n",
    "\n",
    "    fig2 = fig.add_subplot(2,2,2)\n",
    "\n",
    "    fig3 = fig.add_subplot(2,2,3)\n",
    "\n",
    "    fig4 = fig.add_subplot(2,2,4)\n",
    "\n",
    "    fig1.set_ylabel('mean')\n",
    "    fig1.plot(avg_daily)\n",
    "\n",
    "    fig2.set_ylabel('max')\n",
    "    fig2.plot(max_daily)\n",
    "\n",
    "    fig3.set_ylabel('min')\n",
    "    fig3.plot(min_daily)\n",
    "\n",
    "    fig4.set_ylabel('std')\n",
    "    fig4.plot(std_daily)\n",
    "    \n",
    "    if plot_name is None:\n",
    "        plt.show()\n",
    "    else:\n",
    "        plt.savefig(plot_name)\n",
    "        plt.close()\n",
    "    \n",
    "\n"
   ]
  },
  {
   "cell_type": "code",
   "execution_count": 164,
   "metadata": {
    "collapsed": false
   },
   "outputs": [
    {
     "name": "stdout",
     "output_type": "stream",
     "text": [
      "results/inflammation-01.png\n",
      "data/inflammation-01.csv\n"
     ]
    },
    {
     "data": {
      "image/png": "[encoded data removed]",
      "text/plain": [
       "<matplotlib.figure.Figure at 0x7f5e62c18a20>"
      ]
     },
     "metadata": {},
     "output_type": "display_data"
    },
    {
     "name": "stdout",
     "output_type": "stream",
     "text": [
      "results/inflammation-02.png\n",
      "data/inflammation-02.csv\n"
     ]
    },
    {
     "data": {
      "image/png": "[encoded data removed]",
      "text/plain": [
       "<matplotlib.figure.Figure at 0x7f5e62aa1080>"
      ]
     },
     "metadata": {},
     "output_type": "display_data"
    },
    {
     "name": "stdout",
     "output_type": "stream",
     "text": [
      "results/inflammation-03.png\n",
      "data/inflammation-03.csv\n"
     ]
    },
    {
     "data": {
      "image/png": "[encoded data removed]",
      "text/plain": [
       "<matplotlib.figure.Figure at 0x7f5e62bc57f0>"
      ]
     },
     "metadata": {},
     "output_type": "display_data"
    }
   ],
   "source": [
    "import glob as gb\n",
    "\n",
    "file_name = sorted(gb.glob('data/inf*'))\n",
    "\n",
    "\n",
    "for file in file_name[0:3]:\n",
    "    \n",
    "    output_name=file.replace('csv','png')\n",
    "    output_name=output_name.replace('data','results')\n",
    "    print(output_name)\n",
    "    print(file)\n",
    "    analysis(file)\n",
    "    "
   ]
  },
  {
   "cell_type": "code",
   "execution_count": null,
   "metadata": {
    "collapsed": true
   },
   "outputs": [],
   "source": []
  }
 ],
 "metadata": {
  "kernelspec": {
   "display_name": "Python 3",
   "language": "python",
   "name": "python3"
  },
  "language_info": {
   "codemirror_mode": {
    "name": "ipython",
    "version": 3
   },
   "file_extension": ".py",
   "mimetype": "text/x-python",
   "name": "python",
   "nbconvert_exporter": "python",
   "pygments_lexer": "ipython3",
   "version": "3.5.4"
  }
 },
 "nbformat": 4,
 "nbformat_minor": 0
}
